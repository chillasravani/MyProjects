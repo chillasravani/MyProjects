{
  "nbformat": 4,
  "nbformat_minor": 0,
  "metadata": {
    "colab": {
      "provenance": []
    },
    "kernelspec": {
      "name": "python3",
      "display_name": "Python 3"
    },
    "language_info": {
      "name": "python"
    }
  },
  "cells": [
    {
      "cell_type": "code",
      "execution_count": null,
      "metadata": {
        "id": "ScqeBRvo_YPX"
      },
      "outputs": [],
      "source": [
        "import tensorflow as tf\n",
        "import os\n",
        "os.chdir('/content/drive/MyDrive/tomato')\n",
        "model=tf.keras.models.load_model('tomatoleaf_disease_prediction.h5')"
      ]
    },
    {
      "cell_type": "code",
      "source": [
        "from PIL import Image\n",
        "import numpy as np\n",
        "image_path='/content/drive/MyDrive/tomato/testdata/Tomato___Tomato_Yellow_Leaf_Curl_Virus/1afbcb6f-91b5-444d-a383-2f32223b6bf0___YLCV_GCREC 2184.JPG'\n",
        "image=Image.open(image_path)\n",
        "image=image.resize((256,256))\n",
        "image=np.array(image)/255.0\n",
        "image=np.expand_dims(image,axis=0)\n",
        "predictions=model.predict(image)\n",
        "predicted_class=np.argmax(predictions[0])\n",
        "class_names=['Tomato___Bacterial_spot', 'Tomato___Early_blight', 'Tomato___Late_blight', 'Tomato___Leaf_Mold', 'Tomato___Septoria_leaf_spot', 'Tomato___Spider_mites Two-spotted_spider_mite', 'Tomato___Target_Spot', 'Tomato___Tomato_Yellow_Leaf_Curl_Virus', 'Tomato___Tomato_mosaic_virus', 'Tomato___healthy']\n",
        "predicted_label=class_names[predicted_class]\n",
        "print('prdicted label',predicted_label)"
      ],
      "metadata": {
        "id": "fbtz0mJdAuHw"
      },
      "execution_count": null,
      "outputs": []
    },
    {
      "cell_type": "code",
      "source": [
        "os.chdir('/content/drive/MyDrive/tomato')\n",
        "model=tf.keras.models.load_model('annleaf_disease_prediction.h5')\n"
      ],
      "metadata": {
        "id": "3Y4EqkcSHSvH"
      },
      "execution_count": null,
      "outputs": []
    },
    {
      "cell_type": "code",
      "source": [
        "from PIL import Image\n",
        "import numpy as np\n",
        "image_path='/content/drive/MyDrive/tomato/testdata/Tomato___Tomato_Yellow_Leaf_Curl_Virus/1afbcb6f-91b5-444d-a383-2f32223b6bf0___YLCV_GCREC 2184.JPG'\n",
        "image=Image.open(image_path)\n",
        "image=image.resize((256,256))\n",
        "image=np.array(image)/255.0\n",
        "image=np.expand_dims(image,axis=0)\n",
        "predictions=model.predict(image)\n",
        "predicted_class=np.argmax(predictions[0])\n",
        "class_names=['Tomato___Bacterial_spot', 'Tomato___Early_blight', 'Tomato___Late_blight', 'Tomato___Leaf_Mold', 'Tomato___Septoria_leaf_spot', 'Tomato___Spider_mites Two-spotted_spider_mite', 'Tomato___Target_Spot', 'Tomato___Tomato_Yellow_Leaf_Curl_Virus', 'Tomato___Tomato_mosaic_virus', 'Tomato___healthy']\n",
        "predicted_label=class_names[predicted_class]\n",
        "print('prdicted label',predicted_label)"
      ],
      "metadata": {
        "id": "fem5hlLKpEZj"
      },
      "execution_count": null,
      "outputs": []
    },
    {
      "cell_type": "code",
      "source": [],
      "metadata": {
        "id": "h_gAqziahp5K"
      },
      "execution_count": null,
      "outputs": []
    },
    {
      "cell_type": "code",
      "source": [],
      "metadata": {
        "id": "L4EbCvVAgu00"
      },
      "execution_count": null,
      "outputs": []
    },
    {
      "cell_type": "code",
      "source": [
        "os.chdir('/content/drive/MyDrive/tomato')\n",
        "model=tf.keras.models.load_model('vggleaf_disease_prediction.h5')\n"
      ],
      "metadata": {
        "id": "UQV2WQYQgyTJ"
      },
      "execution_count": null,
      "outputs": []
    },
    {
      "cell_type": "code",
      "source": [
        "from PIL import Image\n",
        "import numpy as np\n",
        "image_path='/content/drive/MyDrive/tomato/testdata/Tomato___Tomato_Yellow_Leaf_Curl_Virus/1afbcb6f-91b5-444d-a383-2f32223b6bf0___YLCV_GCREC 2184.JPG'\n",
        "image=Image.open(image_path)\n",
        "image=image.resize((256,256))\n",
        "image=np.array(image)/255.0\n",
        "image=np.expand_dims(image,axis=0)\n",
        "predictions=model.predict(image)\n",
        "predicted_class=np.argmax(predictions[0])\n",
        "class_names=['Tomato___Bacterial_spot', 'Tomato___Early_blight', 'Tomato___Late_blight', 'Tomato___Leaf_Mold', 'Tomato___Septoria_leaf_spot', 'Tomato___Spider_mites Two-spotted_spider_mite', 'Tomato___Target_Spot', 'Tomato___Tomato_Yellow_Leaf_Curl_Virus', 'Tomato___Tomato_mosaic_virus', 'Tomato___healthy']\n",
        "predicted_label=class_names[predicted_class]\n",
        "print('prdicted label',predicted_label)"
      ],
      "metadata": {
        "colab": {
          "base_uri": "https://localhost:8080/"
        },
        "outputId": "552fc657-c2b8-4f36-acdb-d97f3b851fe9",
        "id": "QvM6U7HrhsZx"
      },
      "execution_count": null,
      "outputs": [
        {
          "output_type": "stream",
          "name": "stdout",
          "text": [
            "1/1 [==============================] - 0s 135ms/step\n",
            "prdicted label Tomato___Tomato_Yellow_Leaf_Curl_Virus\n"
          ]
        }
      ]
    }
  ]
}